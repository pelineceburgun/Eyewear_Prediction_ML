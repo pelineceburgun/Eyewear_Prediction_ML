{
 "cells": [
  {
   "cell_type": "markdown",
   "metadata": {
    "id": "plvmdq_rL1bt"
   },
   "source": [
    "## DATA PREPARATION"
   ]
  },
  {
   "cell_type": "code",
   "execution_count": 1,
   "metadata": {
    "id": "LV_UzcIAL1bv"
   },
   "outputs": [],
   "source": [
    "import sklearn\n",
    "\n",
    "import pandas as pd\n",
    "import numpy as np\n",
    "from PIL import Image\n",
    "import os\n",
    "\n",
    "# to make this notebook's output stable across runs\n",
    "np.random.seed(42)\n",
    "\n",
    "# To plot pretty figures\n",
    "%matplotlib inline\n",
    "import matplotlib as mpl\n",
    "import matplotlib.pyplot as plt\n",
    "mpl.rc('axes', labelsize=14)\n",
    "mpl.rc('xtick', labelsize=12)\n",
    "mpl.rc('ytick', labelsize=12)\n"
   ]
  },
  {
   "cell_type": "code",
   "execution_count": 2,
   "metadata": {
    "id": "cQ8QrLYWViBd"
   },
   "outputs": [],
   "source": [
    "direction_encode = {'right': 0, 'left': 1, 'up': 2, 'straight': 3}\n",
    "eyewear_encode = {'open': 0, \"sunglasses\":1}\n",
    "emotion_encode = {'happy': 0, 'sad': 1, 'angry': 2, 'neutral': 3}"
   ]
  },
  {
   "cell_type": "code",
   "execution_count": 3,
   "metadata": {
    "id": "osdj0LibPLSi"
   },
   "outputs": [
    {
     "name": "stdout",
     "output_type": "stream",
     "text": [
      "(120, 128)\n"
     ]
    },
    {
     "data": {
      "image/jpeg": "[encoded data removed]",
      "image/png": "[encoded data removed]",
      "text/plain": [
       "<PIL.JpegImagePlugin.JpegImageFile image mode=L size=128x120>"
      ]
     },
     "metadata": {},
     "output_type": "display_data"
    }
   ],
   "source": [
    "#Opens one of the images \n",
    "img= Image.open('TrainingSet/an2i_left_angry_open.jpg')\n",
    "print(np.asarray(img).shape)\n",
    "display(img)"
   ]
  },
  {
   "cell_type": "code",
   "execution_count": 4,
   "metadata": {
    "id": "qnFcc25Le7kP"
   },
   "outputs": [],
   "source": [
    "#Read training iamges\n",
    "training_images =list(map(lambda img: os.path.join(\"TrainingSet/\",img ),os.listdir(\"TrainingSet\")))\n",
    "\n",
    "X_train = []\n",
    "y_train_direction = []\n",
    "y_train_emotion = []\n",
    "y_train_eyewear = []\n",
    "\n",
    "for img in training_images:\n",
    "    if img.endswith(\".jpg\"):\n",
    "        #Decode labels\n",
    "        img_name=img.strip(\".jpg\").split(\"/\")[1].split(\"_\")\n",
    "        direction = direction_encode[img_name[1]]\n",
    "        emotion = emotion_encode[img_name[2]]\n",
    "        eyewear = eyewear_encode[img_name[3]]\n",
    "        y_train_direction.append(direction)\n",
    "        y_train_emotion.append(emotion)\n",
    "        y_train_eyewear.append(eyewear)\n",
    "        #Flatten the image\n",
    "        img_flatten = np.asarray(Image.open(img)).flatten()\n",
    "        X_train.append(img_flatten)"
   ]
  },
  {
   "cell_type": "code",
   "execution_count": 5,
   "metadata": {
    "id": "R1mkSumiL1bv"
   },
   "outputs": [
    {
     "name": "stdout",
     "output_type": "stream",
     "text": [
      "(15360,)\n",
      "315\n",
      "315\n",
      "315\n",
      "315\n"
     ]
    }
   ],
   "source": [
    "print(X_train[0].shape)\n",
    "print(len(X_train))\n",
    "print(len(y_train_direction))\n",
    "print(len(y_train_emotion))\n",
    "print(len(y_train_eyewear))"
   ]
  },
  {
   "cell_type": "code",
   "execution_count": 6,
   "metadata": {
    "id": "SE01i2C8iB-x"
   },
   "outputs": [],
   "source": [
    "#Read test iamges\n",
    "test_images =list(map(lambda img: os.path.join(\"TestSet/\",img ), os.listdir(\"TestSet/\")))\n",
    "\n",
    "X_test = []\n",
    "y_test_direction = []\n",
    "y_test_emotion = []\n",
    "y_test_eyewear = []\n",
    "\n",
    "for img in test_images:\n",
    "    if img.endswith(\".jpg\"):\n",
    "        #Decode labels\n",
    "        img_name=img.strip(\".jpg\").split(\"/\")[1].split(\"_\")\n",
    "        direction = direction_encode[img_name[1]]\n",
    "        emotion = emotion_encode[img_name[2]]\n",
    "        eyewear = eyewear_encode[img_name[3]]\n",
    "        y_test_direction.append(direction)\n",
    "        y_test_emotion.append(emotion)\n",
    "        y_test_eyewear.append(eyewear)\n",
    "        #Flatten the image\n",
    "        img_flatten = np.asarray(Image.open(img)).flatten()\n",
    "        X_test.append(img_flatten)"
   ]
  },
  {
   "cell_type": "code",
   "execution_count": 7,
   "metadata": {
    "id": "-_EdyWt7kg3I"
   },
   "outputs": [
    {
     "name": "stdout",
     "output_type": "stream",
     "text": [
      "(15360,)\n",
      "90\n",
      "90\n",
      "90\n",
      "90\n"
     ]
    }
   ],
   "source": [
    "print(X_test[0].shape)\n",
    "print(len(X_test))\n",
    "print(len(y_test_direction))\n",
    "print(len(y_test_emotion))\n",
    "print(len(y_test_eyewear))"
   ]
  },
  {
   "cell_type": "code",
   "execution_count": 8,
   "metadata": {
    "id": "pfyQ1b8Nk0ri"
   },
   "outputs": [],
   "source": [
    "# Convert Python lists to Numpy arrays \n",
    "X_train = np.array(X_train)\n",
    "X_test = np.array(X_test)\n",
    "\n",
    "y_train_direction = np.array(y_train_direction)\n",
    "y_test_direction = np.array(y_test_direction)\n",
    "\n",
    "y_train_eyewear = np.array(y_train_eyewear)\n",
    "y_test_eyewear = np.array(y_test_eyewear)\n",
    "\n",
    "y_train_emotion = np.array(y_train_emotion)\n",
    "y_test_emotion = np.array(y_test_emotion)"
   ]
  },
  {
   "cell_type": "code",
   "execution_count": 9,
   "metadata": {
    "id": "REdNAf4FL1bw"
   },
   "outputs": [
    {
     "name": "stdout",
     "output_type": "stream",
     "text": [
      "(315, 15360)\n",
      "(315,)\n",
      "(315,)\n",
      "(315,)\n",
      "(90, 15360)\n",
      "(90,)\n",
      "(90,)\n",
      "(90,)\n"
     ]
    }
   ],
   "source": [
    "print(X_train.shape)\n",
    "print(y_train_direction.shape)\n",
    "print(y_train_emotion.shape)\n",
    "print(y_train_eyewear.shape)\n",
    "print(X_test.shape)\n",
    "print(y_test_direction.shape)\n",
    "print(y_test_emotion.shape)\n",
    "print(y_test_eyewear.shape)"
   ]
  },
  {
   "cell_type": "code",
   "execution_count": 10,
   "metadata": {
    "id": "ltgMbkVQUydH"
   },
   "outputs": [
    {
     "data": {
      "text/plain": [
       "0\n",
       "1    80\n",
       "2    79\n",
       "0    78\n",
       "3    78\n",
       "Name: count, dtype: int64"
      ]
     },
     "execution_count": 10,
     "metadata": {},
     "output_type": "execute_result"
    }
   ],
   "source": [
    "pd.DataFrame(y_train_direction).value_counts()"
   ]
  },
  {
   "cell_type": "code",
   "execution_count": 11,
   "metadata": {
    "id": "LQHk2AWbsGIb"
   },
   "outputs": [
    {
     "data": {
      "text/plain": [
       "0\n",
       "1    158\n",
       "0    157\n",
       "Name: count, dtype: int64"
      ]
     },
     "execution_count": 11,
     "metadata": {},
     "output_type": "execute_result"
    }
   ],
   "source": [
    "pd.DataFrame(y_train_eyewear).value_counts()"
   ]
  },
  {
   "cell_type": "markdown",
   "metadata": {
    "id": "EenXnCnVL1bw"
   },
   "source": [
    "## CLASSIFICATION MODEL TO PREDICT FACE DIRECTION"
   ]
  },
  {
   "cell_type": "markdown",
   "metadata": {
    "id": "r5rV9ZFFL1bx"
   },
   "source": [
    "### part a"
   ]
  },
  {
   "cell_type": "code",
   "execution_count": 12,
   "metadata": {
    "id": "tXUJ3OuXlmK1"
   },
   "outputs": [
    {
     "name": "stdout",
     "output_type": "stream",
     "text": [
      "0.9555555555555556\n",
      "0.6555555555555556\n"
     ]
    }
   ],
   "source": [
    "from sklearn.tree import DecisionTreeClassifier\n",
    "from sklearn.metrics import accuracy_score\n",
    "\n",
    "tree_clf = DecisionTreeClassifier(max_depth=5,random_state=42)\n",
    "tree_clf.fit(X_train,y_train_direction)\n",
    "\n",
    "\n",
    "train_predictions = tree_clf.predict(X_train)\n",
    "train_accuracy = accuracy_score(y_train_direction, train_predictions)\n",
    "\n",
    "print(train_accuracy)\n",
    "\n",
    "test_predictions = tree_clf.predict(X_test)\n",
    "test_accuracy = accuracy_score(y_test_direction,test_predictions)\n",
    "print(test_accuracy)\n",
    "\n"
   ]
  },
  {
   "cell_type": "code",
   "execution_count": 13,
   "metadata": {},
   "outputs": [
    {
     "name": "stdout",
     "output_type": "stream",
     "text": [
      "max_depth=1 -> Train: 0.4444 | Test: 0.4333\n",
      "max_depth=2 -> Train: 0.6317 | Test: 0.6667\n",
      "max_depth=3 -> Train: 0.8063 | Test: 0.7333\n",
      "max_depth=4 -> Train: 0.8984 | Test: 0.7889\n",
      "max_depth=5 -> Train: 0.9556 | Test: 0.6556\n",
      "max_depth=6 -> Train: 0.9937 | Test: 0.7444\n",
      "max_depth=7 -> Train: 1.0000 | Test: 0.6778\n",
      "max_depth=8 -> Train: 1.0000 | Test: 0.6778\n",
      "max_depth=9 -> Train: 1.0000 | Test: 0.6778\n",
      "max_depth=10 -> Train: 1.0000 | Test: 0.6778\n",
      "max_depth=11 -> Train: 1.0000 | Test: 0.6778\n",
      "max_depth=12 -> Train: 1.0000 | Test: 0.6778\n",
      "max_depth=13 -> Train: 1.0000 | Test: 0.6778\n",
      "max_depth=14 -> Train: 1.0000 | Test: 0.6778\n",
      "max_depth=15 -> Train: 1.0000 | Test: 0.6778\n",
      "max_depth=16 -> Train: 1.0000 | Test: 0.6778\n",
      "max_depth=17 -> Train: 1.0000 | Test: 0.6778\n",
      "max_depth=18 -> Train: 1.0000 | Test: 0.6778\n",
      "max_depth=19 -> Train: 1.0000 | Test: 0.6778\n",
      "max_depth=20 -> Train: 1.0000 | Test: 0.6778\n"
     ]
    }
   ],
   "source": [
    "for depth in range(1, 21):\n",
    "    clf = DecisionTreeClassifier(max_depth=depth, random_state=42)\n",
    "    clf.fit(X_train, y_train_direction)\n",
    "    \n",
    "    train_acc = accuracy_score(y_train_direction, clf.predict(X_train))\n",
    "    test_acc = accuracy_score(y_test_direction, clf.predict(X_test))\n",
    "    \n",
    "    print(f\"max_depth={depth} -> Train: {train_acc:.4f} | Test: {test_acc:.4f}\")"
   ]
  },
  {
   "cell_type": "markdown",
   "metadata": {},
   "source": [
    "Best result = Max_depth=4"
   ]
  },
  {
   "cell_type": "markdown",
   "metadata": {
    "id": "IvaulteCL1by"
   },
   "source": [
    "\n",
    "### part b"
   ]
  },
  {
   "cell_type": "code",
   "execution_count": 14,
   "metadata": {
    "id": "N6HAMIeKsXM2"
   },
   "outputs": [
    {
     "name": "stdout",
     "output_type": "stream",
     "text": [
      "SVC(kernel='poly', tol=0.0001)\n",
      "{'C': 1.0, 'kernel': 'poly', 'tol': 0.0001}\n",
      "1.0\n",
      "0.8158730158730159\n",
      "0.9777777777777777\n"
     ]
    }
   ],
   "source": [
    "#Review https://scikit-learn.org/stable/modules/generated/sklearn.model_selection.GridSearchCV.html. Have a close look at attribures section\n",
    "from sklearn.model_selection import GridSearchCV\n",
    "from sklearn.svm import SVC\n",
    "from sklearn.metrics import accuracy_score\n",
    "\n",
    "\n",
    "svc_clf =SVC()\n",
    "params = [{'kernel': ['linear','rbf', 'poly'], 'C': [0.1, 0.5, 1.0], \"tol\": [0.0001,0.001]}]\n",
    "\n",
    "grid_search = GridSearchCV(svc_clf,params,cv=5)\n",
    "grid_search.fit(X_train,y_train_direction)\n",
    "\n",
    "best_model=grid_search.best_estimator_\n",
    "best_parameters=grid_search.best_params_\n",
    "\n",
    "train_predictions=best_model.predict(X_train)\n",
    "train_accuracy=accuracy_score(y_train_direction,train_predictions)\n",
    "validation_accuracy = grid_search.best_score_\n",
    "\n",
    "print(best_model)\n",
    "print(best_parameters)\n",
    "print(train_accuracy)\n",
    "print(validation_accuracy)\n",
    "\n",
    "test_predictions = best_model.predict(X_test)\n",
    "test_accuracy = accuracy_score(y_test_direction,test_predictions)\n",
    "\n",
    "print(test_accuracy)\n"
   ]
  },
  {
   "cell_type": "markdown",
   "metadata": {
    "id": "-pEdd3X8L1bz"
   },
   "source": [
    "Did your model perform well on both training and test data?\n"
   ]
  },
  {
   "cell_type": "markdown",
   "metadata": {},
   "source": [
    "The model performed well on both training and test data. Although it achieved 100% training accuracy (indicating potential overfitting), the test accuracy was very high (~97.8%) and even better than the validation accuracy (~81.6%), suggesting that the model generalized well to unseen data."
   ]
  },
  {
   "cell_type": "markdown",
   "metadata": {
    "id": "62gNEzwOL1bz"
   },
   "source": [
    "### part c"
   ]
  },
  {
   "cell_type": "code",
   "execution_count": 15,
   "metadata": {
    "id": "cqF-Ljttd0l3"
   },
   "outputs": [
    {
     "data": {
      "image/png": "[encoded data removed]",
      "text/plain": [
       "<Figure size 640x480 with 1 Axes>"
      ]
     },
     "metadata": {},
     "output_type": "display_data"
    }
   ],
   "source": [
    "from sklearn.ensemble import RandomForestClassifier\n",
    "import matplotlib.pyplot as plt\n",
    "n_estimators_list=range(1,101,5)\n",
    "\n",
    "train_accuracies=[]\n",
    "test_accuracies=[]\n",
    "for n_estimators in n_estimators_list:\n",
    "    rf_clf = RandomForestClassifier(n_estimators=n_estimators,random_state=42)\n",
    "    rf_clf.fit(X_train,y_train_direction)\n",
    "    \n",
    "    train_predictions=rf_clf.predict(X_train)\n",
    "    train_accuracy=accuracy_score(y_train_direction,train_predictions)\n",
    "    train_accuracies.append(train_accuracy)\n",
    "    \n",
    "    test_predictions=rf_clf.predict(X_test)\n",
    "    test_accuracy=accuracy_score(y_test_direction,test_predictions)\n",
    "    test_accuracies.append(test_accuracy)\n",
    "\n",
    "plt.plot(n_estimators_list,train_accuracies,label='Train Accuracy',marker='o')\n",
    "plt.plot(n_estimators_list,test_accuracies,label='Test Accuracy',marker='x')\n",
    "plt.xlabel('n_estimators')\n",
    "plt.ylabel('Accuracy')\n",
    "plt.legend()\n",
    "plt.title('Train vs Test Accuracy for Random Forest')\n",
    "plt.grid(True)\n",
    "plt.show()\n",
    "\n",
    "#plot train and test accuracy for n_estimators values of 1 to 100 (step size is your choice)\n",
    "\n"
   ]
  },
  {
   "cell_type": "markdown",
   "metadata": {},
   "source": [
    "### part d"
   ]
  },
  {
   "cell_type": "markdown",
   "metadata": {
    "id": "fbXHmh48fHv2"
   },
   "source": [
    "Experiment with different models and parameters to see if you can increase test accuracy.  Report the model with highest accuracy you achived."
   ]
  },
  {
   "cell_type": "markdown",
   "metadata": {},
   "source": [
    "Logistic Regression"
   ]
  },
  {
   "cell_type": "code",
   "execution_count": 16,
   "metadata": {},
   "outputs": [
    {
     "name": "stdout",
     "output_type": "stream",
     "text": [
      "Train Accuracy: 1.0\n",
      "Test Accuracy: 0.7777777777777778\n"
     ]
    }
   ],
   "source": [
    "from sklearn.linear_model import LogisticRegression\n",
    "from sklearn.metrics import accuracy_score\n",
    "\n",
    "\n",
    "log_reg = LogisticRegression(max_iter=1000, random_state=42)\n",
    "log_reg.fit(X_train, y_train_eyewear)\n",
    "\n",
    "\n",
    "train_predictions = log_reg.predict(X_train)\n",
    "train_accuracy = accuracy_score(y_train_eyewear, train_predictions)\n",
    "\n",
    "\n",
    "test_predictions = log_reg.predict(X_test)\n",
    "test_accuracy = accuracy_score(y_test_eyewear, test_predictions)\n",
    "\n",
    "print(f\"Train Accuracy: {train_accuracy}\")\n",
    "print(f\"Test Accuracy: {test_accuracy}\")\n"
   ]
  },
  {
   "cell_type": "code",
   "execution_count": 17,
   "metadata": {},
   "outputs": [
    {
     "name": "stdout",
     "output_type": "stream",
     "text": [
      "KNN Classifier\n",
      "Train Accuracy: 0.9333333333333333\n",
      "Test Accuracy: 0.6444444444444445\n",
      "------------------------------\n"
     ]
    }
   ],
   "source": [
    "from sklearn.neighbors import KNeighborsClassifier\n",
    "from sklearn.metrics import accuracy_score\n",
    "\n",
    "knn_clf = KNeighborsClassifier(n_neighbors=5)  \n",
    "knn_clf.fit(X_train, y_train_eyewear)\n",
    "\n",
    "\n",
    "train_predictions = knn_clf.predict(X_train)\n",
    "train_accuracy = accuracy_score(y_train_eyewear, train_predictions)\n",
    "\n",
    "\n",
    "test_predictions = knn_clf.predict(X_test)\n",
    "test_accuracy = accuracy_score(y_test_eyewear, test_predictions)\n",
    "\n",
    "print(\"KNN Classifier\")\n",
    "print(f\"Train Accuracy: {train_accuracy}\")\n",
    "print(f\"Test Accuracy: {test_accuracy}\")\n",
    "print(\"-\" * 30)\n"
   ]
  },
  {
   "cell_type": "code",
   "execution_count": 18,
   "metadata": {},
   "outputs": [
    {
     "name": "stdout",
     "output_type": "stream",
     "text": [
      "Random Forest Classifier\n",
      "Train Accuracy: 1.0\n",
      "Test Accuracy: 0.7\n",
      "------------------------------\n"
     ]
    }
   ],
   "source": [
    "from sklearn.ensemble import RandomForestClassifier\n",
    "from sklearn.metrics import accuracy_score\n",
    "\n",
    "rf_clf = RandomForestClassifier(\n",
    "    n_estimators=200,  \n",
    "    max_depth=10,      \n",
    "    min_samples_split=5,\n",
    "    random_state=42\n",
    ")\n",
    "rf_clf.fit(X_train, y_train_eyewear)\n",
    "\n",
    "\n",
    "train_predictions = rf_clf.predict(X_train)\n",
    "train_accuracy = accuracy_score(y_train_eyewear, train_predictions)\n",
    "\n",
    "\n",
    "test_predictions = rf_clf.predict(X_test)\n",
    "test_accuracy = accuracy_score(y_test_eyewear, test_predictions)\n",
    "\n",
    "print(\"Random Forest Classifier\")\n",
    "print(f\"Train Accuracy: {train_accuracy}\")\n",
    "print(f\"Test Accuracy: {test_accuracy}\")\n",
    "print(\"-\" * 30)\n"
   ]
  },
  {
   "cell_type": "markdown",
   "metadata": {},
   "source": [
    "KNN model showed the best performance of these three by %77.8 accuracy. Logistic Regression- %70 accuracy, Random Forest-%64.4. "
   ]
  },
  {
   "cell_type": "markdown",
   "metadata": {},
   "source": [
    "Trying to improve KNN"
   ]
  },
  {
   "cell_type": "code",
   "execution_count": 34,
   "metadata": {},
   "outputs": [
    {
     "name": "stdout",
     "output_type": "stream",
     "text": [
      "Best k: 1\n",
      "Best Test Accuracy: 0.7\n"
     ]
    }
   ],
   "source": [
    "from sklearn.neighbors import KNeighborsClassifier\n",
    "from sklearn.metrics import accuracy_score\n",
    "\n",
    "train_accuracies = []\n",
    "test_accuracies = []\n",
    "k_values = list(range(1, 21))\n",
    "\n",
    "for k in k_values:\n",
    "    knn_clf = KNeighborsClassifier(n_neighbors=k)\n",
    "    knn_clf.fit(X_train, y_train_eyewear)\n",
    "\n",
    "    train_predictions = knn_clf.predict(X_train)\n",
    "    test_predictions = knn_clf.predict(X_test)\n",
    "\n",
    "    train_accuracy = accuracy_score(y_train_eyewear, train_predictions)\n",
    "    test_accuracy = accuracy_score(y_test_eyewear, test_predictions)\n",
    "\n",
    "    train_accuracies.append(train_accuracy)\n",
    "    test_accuracies.append(test_accuracy)\n",
    "\n",
    "\n",
    "best_test_accuracy = max(test_accuracies)\n",
    "best_k = k_values[test_accuracies.index(best_test_accuracy)]\n",
    "\n",
    "print(f\"Best k: {best_k}\")\n",
    "print(f\"Best Test Accuracy: {best_test_accuracy}\")"
   ]
  },
  {
   "cell_type": "markdown",
   "metadata": {
    "id": "UGDzSQnUL1b0"
   },
   "source": [
    "## CLASSIFICATION MODEL TO PREDICT EYEWEAR "
   ]
  },
  {
   "cell_type": "markdown",
   "metadata": {
    "id": "oDuGejNv32xh"
   },
   "source": [
    "### part e\n",
    "\n"
   ]
  },
  {
   "cell_type": "code",
   "execution_count": 20,
   "metadata": {
    "id": "cYhEGHzu378_"
   },
   "outputs": [
    {
     "data": {
      "image/png": "[encoded data removed]",
      "text/plain": [
       "<Figure size 640x480 with 1 Axes>"
      ]
     },
     "metadata": {},
     "output_type": "display_data"
    },
    {
     "name": "stdout",
     "output_type": "stream",
     "text": [
      "Best max_depth = 3 (Test Accuracy = 0.6333)\n"
     ]
    }
   ],
   "source": [
    "\n",
    "from sklearn.tree import DecisionTreeClassifier\n",
    "\n",
    "\n",
    "train_accuracies = []\n",
    "test_accuracies = []\n",
    "\n",
    "\n",
    "depth_vals = range(1, 11)\n",
    "\n",
    "for depth in depth_vals:\n",
    "    tree_clf = DecisionTreeClassifier(max_depth=depth, random_state=42)\n",
    "    tree_clf.fit(X_train, y_train_eyewear)\n",
    "\n",
    "    train_accuracy = accuracy_score(y_train_eyewear, tree_clf.predict(X_train))\n",
    "    test_accuracy = accuracy_score(y_test_eyewear, tree_clf.predict(X_test))\n",
    "\n",
    "    train_accuracies.append(train_accuracy)\n",
    "    test_accuracies.append(test_accuracy)\n",
    "\n",
    "\n",
    "plt.plot(depth_vals, train_accuracies, label='Train Accuracy')\n",
    "plt.plot(depth_vals, test_accuracies, label='Test Accuracy')\n",
    "plt.xlabel('max_depth')\n",
    "plt.ylabel('Accuracy')\n",
    "plt.legend()\n",
    "plt.title('Decision Tree - max_depth vs Accuracy')\n",
    "plt.grid(True)\n",
    "plt.show()\n",
    "\n",
    "\n",
    "best_accuracy = max(test_accuracies)\n",
    "best_depth = depth_vals[test_accuracies.index(best_accuracy)]\n",
    "\n",
    "print(f\"Best max_depth = {best_depth} (Test Accuracy = {best_accuracy:.4f})\")"
   ]
  },
  {
   "cell_type": "markdown",
   "metadata": {
    "id": "bZNnRrc9L1b0"
   },
   "source": [
    "### part f"
   ]
  },
  {
   "cell_type": "code",
   "execution_count": 23,
   "metadata": {
    "id": "r0EBT36c448F"
   },
   "outputs": [
    {
     "name": "stdout",
     "output_type": "stream",
     "text": [
      "Best Logistic Regression Model:\n",
      "LogisticRegression(C=0.1, max_iter=1000, penalty='l1', random_state=42,\n",
      "                   solver='saga', tol=0.001)\n",
      "Best Parameters:\n",
      "{'C': 0.1, 'penalty': 'l1'}\n",
      "Training (CV) Accuracy:\n",
      "0.6825396825396824\n",
      "Test Accuracy:\n",
      "0.6888888888888889\n"
     ]
    }
   ],
   "source": [
    "from sklearn.linear_model import LogisticRegression\n",
    "from sklearn.model_selection import GridSearchCV\n",
    "\n",
    "logreg = LogisticRegression(solver='saga', max_iter=1000, tol=0.001, random_state=42)\n",
    "\n",
    "param_grid = {\n",
    "    'penalty': ['l1', 'l2'], \n",
    "    'C': [0.001, 0.01, 0.1]\n",
    "}\n",
    "\n",
    "grid_search = GridSearchCV(logreg, param_grid, scoring='accuracy', cv=3)\n",
    "grid_search.fit(X_train, y_train_eyewear)\n",
    "\n",
    "best_model = grid_search.best_estimator_\n",
    "best_params = grid_search.best_params_\n",
    "train_accuracy = grid_search.best_score_\n",
    "\n",
    "print(\"Best Logistic Regression Model:\")\n",
    "print(best_model)\n",
    "print(\"Best Parameters:\")\n",
    "print(best_params)\n",
    "print(\"Training (CV) Accuracy:\")\n",
    "print(train_accuracy)\n",
    "\n",
    "test_accuracy = accuracy_score(y_test_eyewear, best_model.predict(X_test))\n",
    "print(\"Test Accuracy:\")\n",
    "print(test_accuracy)\n",
    "\n"
   ]
  },
  {
   "cell_type": "markdown",
   "metadata": {
    "id": "Pdec-0ZR9upq"
   },
   "source": [
    "### part g\n"
   ]
  },
  {
   "cell_type": "code",
   "execution_count": 24,
   "metadata": {
    "id": "7DkJ4Qtz9ttO"
   },
   "outputs": [
    {
     "name": "stdout",
     "output_type": "stream",
     "text": [
      "Best SVC Model:\n",
      "SVC(C=0.1, kernel='poly', random_state=42, tol=0.0001)\n",
      "Best Parameters:\n",
      "{'C': 0.1, 'kernel': 'poly', 'tol': 0.0001}\n",
      "Training (CV) Accuracy:\n",
      "0.7174603174603175\n",
      "Test Accuracy:\n",
      "0.8\n"
     ]
    }
   ],
   "source": [
    "from sklearn.svm import SVC\n",
    "from sklearn.model_selection import GridSearchCV\n",
    "\n",
    "svc = SVC(random_state=42)\n",
    "\n",
    "param_grid = {\n",
    "    'kernel': ['linear', 'rbf', 'poly'], \n",
    "    'C': [0.1, 0.5, 1.0],\n",
    "    'tol': [0.0001, 0.001]\n",
    "}\n",
    "\n",
    "grid_search = GridSearchCV(svc, param_grid, scoring='accuracy', cv=3)\n",
    "grid_search.fit(X_train, y_train_eyewear)\n",
    "\n",
    "\n",
    "best_model = grid_search.best_estimator_\n",
    "best_params = grid_search.best_params_\n",
    "train_accuracy = grid_search.best_score_\n",
    "\n",
    "print(\"Best SVC Model:\")\n",
    "print(best_model)\n",
    "print(\"Best Parameters:\")\n",
    "print(best_params)\n",
    "print(\"Training (CV) Accuracy:\")\n",
    "print(train_accuracy)\n",
    "\n",
    "test_accuracy = accuracy_score(y_test_eyewear, best_model.predict(X_test))\n",
    "print(\"Test Accuracy:\")\n",
    "print(test_accuracy)\n",
    "\n",
    "\n"
   ]
  },
  {
   "cell_type": "markdown",
   "metadata": {
    "id": "m-n1-EMBL1b1"
   },
   "source": [
    "### part h"
   ]
  },
  {
   "cell_type": "code",
   "execution_count": 25,
   "metadata": {
    "id": "xsVu_4WJyOk8"
   },
   "outputs": [
    {
     "name": "stdout",
     "output_type": "stream",
     "text": [
      "Random Forest Classifier (Eyewear)\n",
      "Train Accuracy: 1.0\n",
      "Test Accuracy: 0.6333333333333333\n"
     ]
    }
   ],
   "source": [
    "from sklearn.ensemble import RandomForestClassifier\n",
    "\n",
    "rf_clf = RandomForestClassifier(n_estimators=100, max_depth=5, random_state=42)\n",
    "rf_clf.fit(X_train, y_train_eyewear)\n",
    "\n",
    "train_preds = rf_clf.predict(X_train)\n",
    "train_accuracy = accuracy_score(y_train_eyewear, train_preds)\n",
    "\n",
    "test_preds = rf_clf.predict(X_test)\n",
    "test_accuracy = accuracy_score(y_test_eyewear, test_preds)\n",
    "\n",
    "\n",
    "print(\"Random Forest Classifier (Eyewear)\")\n",
    "print(\"Train Accuracy:\", train_accuracy)\n",
    "print(\"Test Accuracy:\", test_accuracy)\n",
    "\n",
    "\n"
   ]
  },
  {
   "cell_type": "markdown",
   "metadata": {
    "id": "txFyup9xL1b3"
   },
   "source": [
    "### part i"
   ]
  },
  {
   "cell_type": "markdown",
   "metadata": {
    "id": "qgPSPqdgL1b4"
   },
   "source": [
    "Experiment with different models and parameters to see if you can increase test accuracy.  Report the model with highest accuracy you achived."
   ]
  },
  {
   "cell_type": "code",
   "execution_count": 26,
   "metadata": {
    "id": "wuZGHhfR7gWz"
   },
   "outputs": [],
   "source": [
    "#KNN with different parameters"
   ]
  },
  {
   "cell_type": "code",
   "execution_count": 27,
   "metadata": {},
   "outputs": [
    {
     "name": "stdout",
     "output_type": "stream",
     "text": [
      "Best Estimator: KNeighborsClassifier(metric='euclidean', weights='distance')\n",
      "Best Parameters: {'metric': 'euclidean', 'n_neighbors': 5, 'weights': 'distance'}\n",
      "Train Score: 0.6571428571428571\n",
      "Test Accuracy: 0.6444444444444445\n"
     ]
    }
   ],
   "source": [
    "from sklearn.neighbors import KNeighborsClassifier\n",
    "from sklearn.model_selection import GridSearchCV\n",
    "\n",
    "params = {\n",
    "    'n_neighbors': [1, 3, 5, 7, 9],\n",
    "    'weights': ['uniform', 'distance'],\n",
    "    'metric': ['euclidean', 'manhattan']\n",
    "}\n",
    "\n",
    "knn = KNeighborsClassifier()\n",
    "grid_search = GridSearchCV(knn, params, scoring='accuracy', cv=3)\n",
    "grid_search.fit(X_train, y_train_eyewear)\n",
    "\n",
    "print(\"Best Estimator:\", grid_search.best_estimator_)\n",
    "print(\"Best Parameters:\", grid_search.best_params_)\n",
    "print(\"Train Score:\", grid_search.best_score_)\n",
    "\n",
    "\n",
    "test_preds = grid_search.predict(X_test)\n",
    "print(\"Test Accuracy:\", accuracy_score(y_test_eyewear, test_preds))\n"
   ]
  },
  {
   "cell_type": "code",
   "execution_count": 28,
   "metadata": {},
   "outputs": [],
   "source": [
    "#Random Forest with different max_depth"
   ]
  },
  {
   "cell_type": "code",
   "execution_count": 29,
   "metadata": {},
   "outputs": [
    {
     "name": "stdout",
     "output_type": "stream",
     "text": [
      "max_depth=5 => Test Accuracy: 0.6333\n",
      "max_depth=10 => Test Accuracy: 0.7111\n",
      "max_depth=15 => Test Accuracy: 0.7222\n"
     ]
    }
   ],
   "source": [
    "for depth in [5, 10, 15]:\n",
    "    rf = RandomForestClassifier(n_estimators=100, max_depth=depth, random_state=42)\n",
    "    rf.fit(X_train, y_train_eyewear)\n",
    "    acc = accuracy_score(y_test_eyewear, rf.predict(X_test))\n",
    "    print(f\"max_depth={depth} => Test Accuracy: {acc:.4f}\")\n"
   ]
  },
  {
   "cell_type": "code",
   "execution_count": 30,
   "metadata": {},
   "outputs": [],
   "source": [
    "#Trying Gradient Boost"
   ]
  },
  {
   "cell_type": "code",
   "execution_count": 31,
   "metadata": {},
   "outputs": [
    {
     "name": "stdout",
     "output_type": "stream",
     "text": [
      "Gradient Boosting - Train: 1.0\n",
      "Gradient Boosting - Test: 0.6222222222222222\n"
     ]
    }
   ],
   "source": [
    "from sklearn.ensemble import GradientBoostingClassifier\n",
    "\n",
    "gbc = GradientBoostingClassifier(n_estimators=100, max_depth=3, random_state=42)\n",
    "gbc.fit(X_train, y_train_eyewear)\n",
    "\n",
    "train_acc = accuracy_score(y_train_eyewear, gbc.predict(X_train))\n",
    "test_acc = accuracy_score(y_test_eyewear, gbc.predict(X_test))\n",
    "\n",
    "print(\"Gradient Boosting - Train:\", train_acc)\n",
    "print(\"Gradient Boosting - Test:\", test_acc)\n"
   ]
  },
  {
   "cell_type": "code",
   "execution_count": 32,
   "metadata": {},
   "outputs": [],
   "source": [
    "#PCA"
   ]
  },
  {
   "cell_type": "code",
   "execution_count": 33,
   "metadata": {},
   "outputs": [
    {
     "name": "stdout",
     "output_type": "stream",
     "text": [
      "Test Accuracy with PCA: 0.6333333333333333\n"
     ]
    },
    {
     "name": "stderr",
     "output_type": "stream",
     "text": [
      "D:\\Anaconda\\Lib\\site-packages\\joblib\\externals\\loky\\backend\\context.py:136: UserWarning: Could not find the number of physical cores for the following reason:\n",
      "found 0 physical cores < 1\n",
      "Returning the number of logical cores instead. You can silence this warning by setting LOKY_MAX_CPU_COUNT to the number of cores you want to use.\n",
      "  warnings.warn(\n",
      "  File \"D:\\Anaconda\\Lib\\site-packages\\joblib\\externals\\loky\\backend\\context.py\", line 282, in _count_physical_cores\n",
      "    raise ValueError(f\"found {cpu_count_physical} physical cores < 1\")\n"
     ]
    }
   ],
   "source": [
    "from sklearn.decomposition import PCA\n",
    "\n",
    "pca = PCA(n_components=100)\n",
    "X_train_pca = pca.fit_transform(X_train)\n",
    "X_test_pca = pca.transform(X_test)\n",
    "\n",
    "knn = KNeighborsClassifier(n_neighbors=3)\n",
    "knn.fit(X_train_pca, y_train_eyewear)\n",
    "print(\"Test Accuracy with PCA:\", accuracy_score(y_test_eyewear, knn.predict(X_test_pca)))\n"
   ]
  },
  {
   "cell_type": "code",
   "execution_count": null,
   "metadata": {},
   "outputs": [],
   "source": []
  }
 ],
 "metadata": {
  "colab": {
   "collapsed_sections": [],
   "name": "Template_2021_Assignment2_Final.ipynb",
   "provenance": []
  },
  "kernelspec": {
   "display_name": "Python 3 (ipykernel)",
   "language": "python",
   "name": "python3"
  },
  "language_info": {
   "codemirror_mode": {
    "name": "ipython",
    "version": 3
   },
   "file_extension": ".py",
   "mimetype": "text/x-python",
   "name": "python",
   "nbconvert_exporter": "python",
   "pygments_lexer": "ipython3",
   "version": "3.12.7"
  }
 },
 "nbformat": 4,
 "nbformat_minor": 4
}
